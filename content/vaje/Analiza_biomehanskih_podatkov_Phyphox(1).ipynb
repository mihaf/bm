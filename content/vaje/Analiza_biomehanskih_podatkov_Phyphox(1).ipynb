{
  "metadata": {
    "kernelspec": {
      "name": "python",
      "display_name": "Python (Pyodide)",
      "language": "python"
    },
    "language_info": {
      "codemirror_mode": {
        "name": "python",
        "version": 3
      },
      "file_extension": ".py",
      "mimetype": "text/x-python",
      "name": "python",
      "nbconvert_exporter": "python",
      "pygments_lexer": "ipython3",
      "version": "3.8"
    }
  },
  "nbformat_minor": 5,
  "nbformat": 4,
  "cells": [
    {
      "cell_type": "markdown",
      "source": "# Analiza podatkov iz Phyphox-a",
      "metadata": {},
      "id": "7b168dfa-12df-43f2-a566-6a2d1ecec248"
    },
    {
      "cell_type": "code",
      "source": "%pip install -q bqplot",
      "metadata": {
        "trusted": true
      },
      "execution_count": 81,
      "outputs": [],
      "id": "d95cea0f-5bfa-467b-a3bd-f47bcc770c6a"
    },
    {
      "cell_type": "code",
      "source": "import numpy as np\nimport pandas as pd\nimport matplotlib.pyplot as plt\n#import bqplot.pyplot as plt\n#%matplotlib inline\nfrom scipy import signal\nimport sys,os\nsys.path.append(\"../SPARC/scripts\") # SPARC measure of movement smoothness\n#from smoothness import log_dimensionless_jerk2 as ldlj",
      "metadata": {
        "trusted": true
      },
      "execution_count": 117,
      "outputs": [],
      "id": "638247a8-9a92-471c-a0ca-e884c292863e"
    },
    {
      "cell_type": "code",
      "source": "def Raw_Filtered_Plot(t,y,fy,measurement='Measurement',xlabel='x',ylabel='y',legend='True'):\n    '''Plot Raw and Filtered data over time'''\n    fig = plt.figure()\n    plt.plot(t,y,label=f'Raw')# LDJ = {ldj:.0f}')\n    plt.plot(t,fy,label=f'Filter')# LDJ = {ldjf:.0f}')\n    plt.xlabel(xlabel)\n    plt.ylabel(ylabel)\n    plt.title(measurement)\n    if legend: plt.legend(loc='lower right')\n    fig",
      "metadata": {
        "trusted": true
      },
      "execution_count": 88,
      "outputs": [],
      "id": "35b6a62e-ced1-4d1c-8dea-678a365b6e63"
    },
    {
      "cell_type": "code",
      "source": "def AnalyzeSignal(d,ydataNo,order=8,CNr=0.1,Start=100,Interval=0,plot=True,legend='True'):\n    '''Get Raw and Filtered data over time and their Log_Dimensionless_Jerk'''\n    if Interval == 0:\n        Interval = len(d)-Start\n    t, y = [d.iloc[:,col][Start:Start+Interval] for col in (0,ydataNo)]\n    dtlist = t.diff()[1:]\n    fslist = 1/dtlist # Sampling frequency\n    fs, sfs = np.average(fslist),np.std(fslist)\n    sampling = f', Sampling: $f_s$ = {fs:.0f} Hz, $\\sigma (f_s) =$ {sfs:.0f} Hz'\n    b, a = signal.butter(order, CNr * (0.5*fs), fs = fs) # Lowpass Butterforth filter\n    fy = signal.filtfilt(b, a, y) # Apply filter forward and backward to a signal\n   # ldj, ldjf = (ldlj(yy,fs,data_type='speed') for yy in (y,fy)) # Log_Dimensionless_Jerk\n\n    Raw_Filtered_Plot(t,y,fy,\n                      measurement,\n                      xlabel=d.columns[0]+sampling,\n                      ylabel=d.columns[ydataNo],\n                      legend=legend)\n    \n    return t, y, fy",
      "metadata": {
        "trusted": true
      },
      "execution_count": 89,
      "outputs": [],
      "id": "aa5f9b9e-f811-4be0-8302-707960b21fff"
    },
    {
      "cell_type": "code",
      "source": "dirname = 'Acceleration with g 2023-10-21_14-00-55'\nfilename = 'Raw Data.csv'\n#measurements = [f'{dirname}/{file}' for file in os.listdir(dirname)]\n#measurements = [f'{dirname}/{filename}']\nmeasurements = [f'{filename}']\nprint(measurements)",
      "metadata": {
        "trusted": true
      },
      "execution_count": 90,
      "outputs": [
        {
          "name": "stdout",
          "text": "['Raw Data.csv']\n",
          "output_type": "stream"
        }
      ],
      "id": "adf0681a-bc8e-4280-bd94-15351a3e4284"
    },
    {
      "cell_type": "code",
      "source": "pd.read_csv(measurements[0])",
      "metadata": {
        "trusted": true
      },
      "execution_count": 91,
      "outputs": [
        {
          "execution_count": 91,
          "output_type": "execute_result",
          "data": {
            "text/plain": "        Time (s)  Acceleration x (m/s^2)  Acceleration y (m/s^2)  \\\n0       0.019078                0.478565                9.635897   \n1       0.021623                0.449851                9.643075   \n2       0.024156                0.404387                9.645468   \n3       0.026688                0.356531                9.655040   \n4       0.029221                0.315853                9.669396   \n...          ...                     ...                     ...   \n17131  43.410774                2.658426                1.507478   \n17132  43.413307                2.651248                1.509871   \n17133  43.415840                2.658426                1.505085   \n17134  43.418373                2.677568                1.509871   \n17135  43.420906                2.682354                1.524228   \n\n       Acceleration z (m/s^2)  Absolute acceleration (m/s^2)  \n0                   -1.071985                       9.707146  \n1                   -1.093520                       9.715300  \n2                   -1.119841                       9.718674  \n3                   -1.136591                       9.728245  \n4                   -1.160519                       9.743911  \n...                       ...                            ...  \n17131                9.466006                       9.947110  \n17132                9.449257                       9.929616  \n17133                9.444471                       9.926256  \n17134                9.451650                       9.938952  \n17135                9.466006                       9.956082  \n\n[17136 rows x 5 columns]",
            "text/html": "<div>\n<style scoped>\n    .dataframe tbody tr th:only-of-type {\n        vertical-align: middle;\n    }\n\n    .dataframe tbody tr th {\n        vertical-align: top;\n    }\n\n    .dataframe thead th {\n        text-align: right;\n    }\n</style>\n<table border=\"1\" class=\"dataframe\">\n  <thead>\n    <tr style=\"text-align: right;\">\n      <th></th>\n      <th>Time (s)</th>\n      <th>Acceleration x (m/s^2)</th>\n      <th>Acceleration y (m/s^2)</th>\n      <th>Acceleration z (m/s^2)</th>\n      <th>Absolute acceleration (m/s^2)</th>\n    </tr>\n  </thead>\n  <tbody>\n    <tr>\n      <th>0</th>\n      <td>0.019078</td>\n      <td>0.478565</td>\n      <td>9.635897</td>\n      <td>-1.071985</td>\n      <td>9.707146</td>\n    </tr>\n    <tr>\n      <th>1</th>\n      <td>0.021623</td>\n      <td>0.449851</td>\n      <td>9.643075</td>\n      <td>-1.093520</td>\n      <td>9.715300</td>\n    </tr>\n    <tr>\n      <th>2</th>\n      <td>0.024156</td>\n      <td>0.404387</td>\n      <td>9.645468</td>\n      <td>-1.119841</td>\n      <td>9.718674</td>\n    </tr>\n    <tr>\n      <th>3</th>\n      <td>0.026688</td>\n      <td>0.356531</td>\n      <td>9.655040</td>\n      <td>-1.136591</td>\n      <td>9.728245</td>\n    </tr>\n    <tr>\n      <th>4</th>\n      <td>0.029221</td>\n      <td>0.315853</td>\n      <td>9.669396</td>\n      <td>-1.160519</td>\n      <td>9.743911</td>\n    </tr>\n    <tr>\n      <th>...</th>\n      <td>...</td>\n      <td>...</td>\n      <td>...</td>\n      <td>...</td>\n      <td>...</td>\n    </tr>\n    <tr>\n      <th>17131</th>\n      <td>43.410774</td>\n      <td>2.658426</td>\n      <td>1.507478</td>\n      <td>9.466006</td>\n      <td>9.947110</td>\n    </tr>\n    <tr>\n      <th>17132</th>\n      <td>43.413307</td>\n      <td>2.651248</td>\n      <td>1.509871</td>\n      <td>9.449257</td>\n      <td>9.929616</td>\n    </tr>\n    <tr>\n      <th>17133</th>\n      <td>43.415840</td>\n      <td>2.658426</td>\n      <td>1.505085</td>\n      <td>9.444471</td>\n      <td>9.926256</td>\n    </tr>\n    <tr>\n      <th>17134</th>\n      <td>43.418373</td>\n      <td>2.677568</td>\n      <td>1.509871</td>\n      <td>9.451650</td>\n      <td>9.938952</td>\n    </tr>\n    <tr>\n      <th>17135</th>\n      <td>43.420906</td>\n      <td>2.682354</td>\n      <td>1.524228</td>\n      <td>9.466006</td>\n      <td>9.956082</td>\n    </tr>\n  </tbody>\n</table>\n<p>17136 rows × 5 columns</p>\n</div>"
          },
          "metadata": {}
        }
      ],
      "id": "23122d4c-32aa-40d7-9690-88210d5bdcb6"
    },
    {
      "cell_type": "code",
      "source": "ydataNo = 4 # Column Numbers to Analyze\norder = 8 # Order of Butterworth filter\nCNr = 0.05 # (0,1) f_crit/f_Nyquist in Butterworth filter. Try: 0.01 and 0.1.\n\nfor measurement in measurements:\n    AnalyzeSignal(pd.read_csv(measurement),ydataNo,order,CNr,\n                  Start=5700, # Start of the interval\n                  Interval=4500,  # Interval length. Set 0 for whole measurement.\n                  plot=True,legend=True)",
      "metadata": {
        "trusted": true
      },
      "execution_count": 93,
      "outputs": [],
      "id": "abfe7cc6-57c9-426f-8c0b-c9e54441437e"
    },
    {
      "cell_type": "code",
      "source": "%pip install -q ipywidgets",
      "metadata": {
        "trusted": true
      },
      "execution_count": 106,
      "outputs": [],
      "id": "1472e1bc-2a55-40fd-a1ad-6f9236696740"
    },
    {
      "cell_type": "code",
      "source": "from ipywidgets import IntSlider",
      "metadata": {
        "trusted": true
      },
      "execution_count": 107,
      "outputs": [],
      "id": "02a87d80-938a-430c-a3a4-0818987c9099"
    },
    {
      "cell_type": "code",
      "source": "slider = IntSlider()",
      "metadata": {
        "trusted": true
      },
      "execution_count": 108,
      "outputs": [],
      "id": "b7a845ac-573d-4c3c-b04d-18a6c0f5346c"
    },
    {
      "cell_type": "code",
      "source": "slider",
      "metadata": {
        "trusted": true
      },
      "execution_count": 114,
      "outputs": [
        {
          "execution_count": 114,
          "output_type": "execute_result",
          "data": {
            "text/plain": "IntSlider(value=44)",
            "application/vnd.jupyter.widget-view+json": {
              "version_major": 2,
              "version_minor": 0,
              "model_id": "a9ad00f743f24c10a2f2e9a10c0f7900"
            }
          },
          "metadata": {}
        }
      ],
      "id": "560f5b10-445b-45c2-a605-86ef045f1067"
    },
    {
      "cell_type": "code",
      "source": "fig = plt.figure(title=\"test\")\nx = np.arange(100)\ny = x-slider.value #np.cumsum(np.random.randn(100))\nplt.plot(x,y)\nfig",
      "metadata": {
        "trusted": true
      },
      "execution_count": 113,
      "outputs": [
        {
          "execution_count": 113,
          "output_type": "execute_result",
          "data": {
            "text/plain": "Figure(axes=[Axis(scale=LinearScale()), Axis(orientation='vertical', scale=LinearScale())], fig_margin={'top':…",
            "application/vnd.jupyter.widget-view+json": {
              "version_major": 2,
              "version_minor": 0,
              "model_id": "6bec9bb83809448d85964d8f94c31c74"
            }
          },
          "metadata": {}
        }
      ],
      "id": "c4613c6b-4f75-49a9-a403-d83760eb2574"
    },
    {
      "cell_type": "code",
      "source": "from ipywidgets import interact",
      "metadata": {
        "trusted": true
      },
      "execution_count": 115,
      "outputs": [],
      "id": "ff7e21a9-03fd-40a7-b44a-157c7cbc99f0"
    },
    {
      "cell_type": "code",
      "source": "def Interactive_Raw_Filtered_Plot(t,y,measurement='Measurement',xlabel='x',ylabel='y',legend='True'):\n    '''Interactive Plot of Raw and Filtered data over time'''\n    #fig = plt.figure()\n    plt.plot(t,y,label=f'Raw')# LDJ = {ldj:.0f}')\n    #plt.plot(t,fy,label=f'Filter')# LDJ = {ldjf:.0f}')\n    plt.xlabel(xlabel)\n    plt.ylabel(ylabel)\n    plt.title(measurement)\n    if legend: plt.legend(loc='lower right')\n    plt.show()",
      "metadata": {
        "trusted": true
      },
      "execution_count": 121,
      "outputs": [],
      "id": "96feb717-e303-4af0-a1a2-7718b55edd98"
    },
    {
      "cell_type": "code",
      "source": "ydataNo = 4 # Column Numbers to Analyze\n\nfor measurement in measurements:\n    d = pd.read_csv(measurement)\n\nt, y = [d.iloc[:,col][Start:Start+Interval] for col in (0,ydataNo)]\nInteractive_Raw_Filtered_Plot(t,y,fy,\n                      measurement,\n                      xlabel=d.columns[0]+sampling,\n                      ylabel=d.columns[ydataNo],\n                      legend=legend)",
      "metadata": {
        "trusted": true
      },
      "execution_count": 126,
      "outputs": [
        {
          "ename": "<class 'NameError'>",
          "evalue": "name 'Start' is not defined",
          "traceback": [
            "\u001b[0;31m---------------------------------------------------------------------------\u001b[0m",
            "\u001b[0;31mNameError\u001b[0m                                 Traceback (most recent call last)",
            "Cell \u001b[0;32mIn[126], line 4\u001b[0m\n\u001b[1;32m      2\u001b[0m     d \u001b[38;5;241m=\u001b[39m pd\u001b[38;5;241m.\u001b[39mread_csv(measurement)\n\u001b[1;32m      3\u001b[0m ydataNo \u001b[38;5;241m=\u001b[39m \u001b[38;5;241m4\u001b[39m \u001b[38;5;66;03m# Column Numbers to Analyze\u001b[39;00m\n\u001b[0;32m----> 4\u001b[0m t, y \u001b[38;5;241m=\u001b[39m \u001b[43m[\u001b[49m\u001b[43md\u001b[49m\u001b[38;5;241;43m.\u001b[39;49m\u001b[43miloc\u001b[49m\u001b[43m[\u001b[49m\u001b[43m:\u001b[49m\u001b[43m,\u001b[49m\u001b[43mcol\u001b[49m\u001b[43m]\u001b[49m\u001b[43m[\u001b[49m\u001b[43mStart\u001b[49m\u001b[43m:\u001b[49m\u001b[43mStart\u001b[49m\u001b[38;5;241;43m+\u001b[39;49m\u001b[43mInterval\u001b[49m\u001b[43m]\u001b[49m\u001b[43m \u001b[49m\u001b[38;5;28;43;01mfor\u001b[39;49;00m\u001b[43m \u001b[49m\u001b[43mcol\u001b[49m\u001b[43m \u001b[49m\u001b[38;5;129;43;01min\u001b[39;49;00m\u001b[43m \u001b[49m\u001b[43m(\u001b[49m\u001b[38;5;241;43m0\u001b[39;49m\u001b[43m,\u001b[49m\u001b[43mydataNo\u001b[49m\u001b[43m)\u001b[49m\u001b[43m]\u001b[49m\n",
            "Cell \u001b[0;32mIn[126], line 4\u001b[0m, in \u001b[0;36m<listcomp>\u001b[0;34m(.0)\u001b[0m\n\u001b[1;32m      2\u001b[0m     d \u001b[38;5;241m=\u001b[39m pd\u001b[38;5;241m.\u001b[39mread_csv(measurement)\n\u001b[1;32m      3\u001b[0m ydataNo \u001b[38;5;241m=\u001b[39m \u001b[38;5;241m4\u001b[39m \u001b[38;5;66;03m# Column Numbers to Analyze\u001b[39;00m\n\u001b[0;32m----> 4\u001b[0m t, y \u001b[38;5;241m=\u001b[39m [d\u001b[38;5;241m.\u001b[39miloc[:,col][\u001b[43mStart\u001b[49m:Start\u001b[38;5;241m+\u001b[39mInterval] \u001b[38;5;28;01mfor\u001b[39;00m col \u001b[38;5;129;01min\u001b[39;00m (\u001b[38;5;241m0\u001b[39m,ydataNo)]\n",
            "\u001b[0;31mNameError\u001b[0m: name 'Start' is not defined"
          ],
          "output_type": "error"
        }
      ],
      "id": "6ff274d0-adb8-4b39-83af-fd7e3718c3d9"
    },
    {
      "cell_type": "code",
      "source": "interact(Interactive_Raw_Filtered_Plot)",
      "metadata": {
        "trusted": true
      },
      "execution_count": 122,
      "outputs": [
        {
          "ename": "<class 'ValueError'>",
          "evalue": "cannot find widget or abbreviation for argument: 't'",
          "traceback": [
            "\u001b[0;31m---------------------------------------------------------------------------\u001b[0m",
            "\u001b[0;31mValueError\u001b[0m                                Traceback (most recent call last)",
            "Cell \u001b[0;32mIn[122], line 1\u001b[0m\n\u001b[0;32m----> 1\u001b[0m \u001b[43minteract\u001b[49m\u001b[43m(\u001b[49m\u001b[43mInteractive_Raw_Filtered_Plot\u001b[49m\u001b[43m)\u001b[49m\n",
            "File \u001b[0;32m/lib/python3.11/site-packages/ipywidgets/widgets/interaction.py:511\u001b[0m, in \u001b[0;36m_InteractFactory.__call__\u001b[0;34m(self, _InteractFactory__interact_f, **kwargs)\u001b[0m\n\u001b[1;32m    503\u001b[0m     \u001b[38;5;28;01mreturn\u001b[39;00m \u001b[38;5;28mself\u001b[39m\n\u001b[1;32m    505\u001b[0m \u001b[38;5;66;03m# positional arg support in: https://gist.github.com/8851331\u001b[39;00m\n\u001b[1;32m    506\u001b[0m \u001b[38;5;66;03m# Handle the cases 1 and 2\u001b[39;00m\n\u001b[1;32m    507\u001b[0m \u001b[38;5;66;03m# 1. interact(f, **kwargs)\u001b[39;00m\n\u001b[1;32m    508\u001b[0m \u001b[38;5;66;03m# 2. @interact\u001b[39;00m\n\u001b[1;32m    509\u001b[0m \u001b[38;5;66;03m#    def f(*args, **kwargs):\u001b[39;00m\n\u001b[1;32m    510\u001b[0m \u001b[38;5;66;03m#        ...\u001b[39;00m\n\u001b[0;32m--> 511\u001b[0m w \u001b[38;5;241m=\u001b[39m \u001b[38;5;28;43mself\u001b[39;49m\u001b[38;5;241;43m.\u001b[39;49m\u001b[43mwidget\u001b[49m\u001b[43m(\u001b[49m\u001b[43mf\u001b[49m\u001b[43m)\u001b[49m\n\u001b[1;32m    512\u001b[0m \u001b[38;5;28;01mtry\u001b[39;00m:\n\u001b[1;32m    513\u001b[0m     f\u001b[38;5;241m.\u001b[39mwidget \u001b[38;5;241m=\u001b[39m w\n",
            "File \u001b[0;32m/lib/python3.11/site-packages/ipywidgets/widgets/interaction.py:427\u001b[0m, in \u001b[0;36m_InteractFactory.widget\u001b[0;34m(self, f)\u001b[0m\n\u001b[1;32m    411\u001b[0m \u001b[38;5;28;01mdef\u001b[39;00m \u001b[38;5;21mwidget\u001b[39m(\u001b[38;5;28mself\u001b[39m, f):\n\u001b[1;32m    412\u001b[0m \u001b[38;5;250m    \u001b[39m\u001b[38;5;124;03m\"\"\"\u001b[39;00m\n\u001b[1;32m    413\u001b[0m \u001b[38;5;124;03m    Return an interactive function widget for the given function.\u001b[39;00m\n\u001b[1;32m    414\u001b[0m \n\u001b[0;32m   (...)\u001b[0m\n\u001b[1;32m    425\u001b[0m \u001b[38;5;124;03m        The function to which the interactive widgets are tied.\u001b[39;00m\n\u001b[1;32m    426\u001b[0m \u001b[38;5;124;03m    \"\"\"\u001b[39;00m\n\u001b[0;32m--> 427\u001b[0m     \u001b[38;5;28;01mreturn\u001b[39;00m \u001b[38;5;28;43mself\u001b[39;49m\u001b[38;5;241;43m.\u001b[39;49m\u001b[43mcls\u001b[49m\u001b[43m(\u001b[49m\u001b[43mf\u001b[49m\u001b[43m,\u001b[49m\u001b[43m \u001b[49m\u001b[38;5;28;43mself\u001b[39;49m\u001b[38;5;241;43m.\u001b[39;49m\u001b[43mopts\u001b[49m\u001b[43m,\u001b[49m\u001b[43m \u001b[49m\u001b[38;5;241;43m*\u001b[39;49m\u001b[38;5;241;43m*\u001b[39;49m\u001b[38;5;28;43mself\u001b[39;49m\u001b[38;5;241;43m.\u001b[39;49m\u001b[43mkwargs\u001b[49m\u001b[43m)\u001b[49m\n",
            "File \u001b[0;32m/lib/python3.11/site-packages/ipywidgets/widgets/interaction.py:172\u001b[0m, in \u001b[0;36minteractive.__init__\u001b[0;34m(self, _interactive__interact_f, _interactive__options, **kwargs)\u001b[0m\n\u001b[1;32m    169\u001b[0m \u001b[38;5;28mself\u001b[39m\u001b[38;5;241m.\u001b[39mmanual_name \u001b[38;5;241m=\u001b[39m __options\u001b[38;5;241m.\u001b[39mget(\u001b[38;5;124m\"\u001b[39m\u001b[38;5;124mmanual_name\u001b[39m\u001b[38;5;124m\"\u001b[39m, \u001b[38;5;124m\"\u001b[39m\u001b[38;5;124mRun Interact\u001b[39m\u001b[38;5;124m\"\u001b[39m)\n\u001b[1;32m    170\u001b[0m \u001b[38;5;28mself\u001b[39m\u001b[38;5;241m.\u001b[39mauto_display \u001b[38;5;241m=\u001b[39m __options\u001b[38;5;241m.\u001b[39mget(\u001b[38;5;124m\"\u001b[39m\u001b[38;5;124mauto_display\u001b[39m\u001b[38;5;124m\"\u001b[39m, \u001b[38;5;28;01mFalse\u001b[39;00m)\n\u001b[0;32m--> 172\u001b[0m new_kwargs \u001b[38;5;241m=\u001b[39m \u001b[38;5;28;43mself\u001b[39;49m\u001b[38;5;241;43m.\u001b[39;49m\u001b[43mfind_abbreviations\u001b[49m\u001b[43m(\u001b[49m\u001b[43mkwargs\u001b[49m\u001b[43m)\u001b[49m\n\u001b[1;32m    173\u001b[0m \u001b[38;5;66;03m# Before we proceed, let's make sure that the user has passed a set of args+kwargs\u001b[39;00m\n\u001b[1;32m    174\u001b[0m \u001b[38;5;66;03m# that will lead to a valid call of the function. This protects against unspecified\u001b[39;00m\n\u001b[1;32m    175\u001b[0m \u001b[38;5;66;03m# and doubly-specified arguments.\u001b[39;00m\n\u001b[1;32m    176\u001b[0m \u001b[38;5;28;01mtry\u001b[39;00m:\n",
            "File \u001b[0;32m/lib/python3.11/site-packages/ipywidgets/widgets/interaction.py:272\u001b[0m, in \u001b[0;36minteractive.find_abbreviations\u001b[0;34m(self, kwargs)\u001b[0m\n\u001b[1;32m    270\u001b[0m     \u001b[38;5;28;01mfor\u001b[39;00m name, value, default \u001b[38;5;129;01min\u001b[39;00m _yield_abbreviations_for_parameter(param, kwargs):\n\u001b[1;32m    271\u001b[0m         \u001b[38;5;28;01mif\u001b[39;00m value \u001b[38;5;129;01mis\u001b[39;00m empty:\n\u001b[0;32m--> 272\u001b[0m             \u001b[38;5;28;01mraise\u001b[39;00m \u001b[38;5;167;01mValueError\u001b[39;00m(\u001b[38;5;124m'\u001b[39m\u001b[38;5;124mcannot find widget or abbreviation for argument: \u001b[39m\u001b[38;5;132;01m{!r}\u001b[39;00m\u001b[38;5;124m'\u001b[39m\u001b[38;5;241m.\u001b[39mformat(name))\n\u001b[1;32m    273\u001b[0m         new_kwargs\u001b[38;5;241m.\u001b[39mappend((name, value, default))\n\u001b[1;32m    274\u001b[0m \u001b[38;5;28;01mreturn\u001b[39;00m new_kwargs\n",
            "\u001b[0;31mValueError\u001b[0m: cannot find widget or abbreviation for argument: 't'"
          ],
          "output_type": "error"
        }
      ],
      "id": "ec0143c7-0201-416d-97d9-8851c335e898"
    },
    {
      "cell_type": "code",
      "source": "def interactive_plot(amplitude, frequency):\n    x = np.linspace(0, 2 * np.pi, 1000)\n    y = amplitude * np.sin(frequency * x)\n    plt.figure(figsize=(8, 4))\n    plt.plot(x, y)\n    plt.xlabel('X-axis')\n    plt.ylabel('Y-axis')\n    plt.title('Interactive Sine Wave')\n    plt.grid(True)\n    plt.show() ",
      "metadata": {
        "trusted": true
      },
      "execution_count": 119,
      "outputs": [],
      "id": "ab76dfbf-0cc4-473a-94f4-212d91702846"
    },
    {
      "cell_type": "code",
      "source": " interact(interactive_plot, amplitude=(1, 5, 0.1), frequency=(1, 10, 0.1))",
      "metadata": {
        "trusted": true
      },
      "execution_count": 120,
      "outputs": [
        {
          "output_type": "display_data",
          "data": {
            "text/plain": "interactive(children=(FloatSlider(value=3.0, description='amplitude', max=5.0, min=1.0), FloatSlider(value=5.0…",
            "application/vnd.jupyter.widget-view+json": {
              "version_major": 2,
              "version_minor": 0,
              "model_id": "2f8c057df02442ea9f1955632eb63e04"
            }
          },
          "metadata": {}
        },
        {
          "execution_count": 120,
          "output_type": "execute_result",
          "data": {
            "text/plain": "<function __main__.interactive_plot(amplitude, frequency)>"
          },
          "metadata": {}
        }
      ],
      "id": "3aa8b8f3-c197-4dc1-ac96-b1f35f5123e9"
    },
    {
      "cell_type": "code",
      "source": "",
      "metadata": {},
      "execution_count": null,
      "outputs": [],
      "id": "1f7e54c4-38a9-4700-910c-24f1b4f62126"
    }
  ]
}